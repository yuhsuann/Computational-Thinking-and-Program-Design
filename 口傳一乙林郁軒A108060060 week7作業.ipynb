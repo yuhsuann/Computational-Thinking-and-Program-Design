{
  "nbformat": 4,
  "nbformat_minor": 0,
  "metadata": {
    "colab": {
      "name": "Untitled0.ipynb",
      "provenance": [],
      "authorship_tag": "ABX9TyOqLhAXsHLIV0gWkV+NQNJU",
      "include_colab_link": true
    },
    "kernelspec": {
      "name": "python3",
      "display_name": "Python 3"
    }
  },
  "cells": [
    {
      "cell_type": "markdown",
      "metadata": {
        "id": "view-in-github",
        "colab_type": "text"
      },
      "source": [
        "<a href=\"https://colab.research.google.com/github/yuhsuann/Computational-Thinking-and-Program-Design/blob/master/%E5%8F%A3%E5%82%B3%E4%B8%80%E4%B9%99%E6%9E%97%E9%83%81%E8%BB%92A108060060%20week7%E4%BD%9C%E6%A5%AD.ipynb\" target=\"_parent\"><img src=\"https://colab.research.google.com/assets/colab-badge.svg\" alt=\"Open In Colab\"/></a>"
      ]
    },
    {
      "cell_type": "code",
      "metadata": {
        "id": "-xjKiAR_LuPh",
        "colab_type": "code",
        "colab": {}
      },
      "source": [
        "#從維基百科找出要記錄的韓劇黎泰院相關資訊"
      ],
      "execution_count": 0,
      "outputs": []
    },
    {
      "cell_type": "code",
      "metadata": {
        "id": "2V-0xE8aOxmr",
        "colab_type": "code",
        "colab": {}
      },
      "source": [
        "##網址：https://zh.wikipedia.org/wiki/%E6%A2%A8%E6%B3%B0%E9%99%A2Class"
      ],
      "execution_count": 0,
      "outputs": []
    },
    {
      "cell_type": "code",
      "metadata": {
        "id": "-flekw-mO2Ou",
        "colab_type": "code",
        "colab": {}
      },
      "source": [
        "###相關資訊：韓劇名稱(movie_title)、首播時間(release_date)、每級片長(drama_time)、導演(director)與主要演員(actors and actress)"
      ],
      "execution_count": 0,
      "outputs": []
    },
    {
      "cell_type": "code",
      "metadata": {
        "id": "oX_3sj5CRXah",
        "colab_type": "code",
        "colab": {}
      },
      "source": [
        "movie_title=\"梨泰院Class\"#韓劇名稱"
      ],
      "execution_count": 0,
      "outputs": []
    },
    {
      "cell_type": "code",
      "metadata": {
        "id": "o18HGL8pR2tk",
        "colab_type": "code",
        "colab": {}
      },
      "source": [
        "release_date=\"2020/01/31\"#首播時間"
      ],
      "execution_count": 0,
      "outputs": []
    },
    {
      "cell_type": "code",
      "metadata": {
        "id": "zYC8qgw6Sgmy",
        "colab_type": "code",
        "colab": {}
      },
      "source": [
        "drama_time=\"60 MIN\"#每級片長"
      ],
      "execution_count": 0,
      "outputs": []
    },
    {
      "cell_type": "code",
      "metadata": {
        "id": "i1GTUlLLSp7L",
        "colab_type": "code",
        "colab": {}
      },
      "source": [
        "director=\"金成允、姜敏九\"#導演"
      ],
      "execution_count": 0,
      "outputs": []
    },
    {
      "cell_type": "code",
      "metadata": {
        "id": "lAYtm9YsSyzv",
        "colab_type": "code",
        "colab": {}
      },
      "source": [
        "actor1=\"朴敘俊\"#男一"
      ],
      "execution_count": 0,
      "outputs": []
    },
    {
      "cell_type": "code",
      "metadata": {
        "id": "2Vjy3LS_UpLl",
        "colab_type": "code",
        "colab": {}
      },
      "source": [
        "actor2=\"劉在明\"#男二"
      ],
      "execution_count": 0,
      "outputs": []
    },
    {
      "cell_type": "code",
      "metadata": {
        "id": "0QyddZPYTLfu",
        "colab_type": "code",
        "colab": {}
      },
      "source": [
        "actress1=\"金多美\"#女一"
      ],
      "execution_count": 0,
      "outputs": []
    },
    {
      "cell_type": "code",
      "metadata": {
        "id": "iM5iTDouTViA",
        "colab_type": "code",
        "colab": {}
      },
      "source": [
        "actress2=\"權娜拉\"#女二"
      ],
      "execution_count": 0,
      "outputs": []
    },
    {
      "cell_type": "code",
      "metadata": {
        "id": "kZoDtfDJTiJ-",
        "colab_type": "code",
        "outputId": "ee4af758-9dba-4de2-b4b8-27beb2d58447",
        "colab": {
          "base_uri": "https://localhost:8080/",
          "height": 34
        }
      },
      "source": [
        "print(movie_title)"
      ],
      "execution_count": 0,
      "outputs": [
        {
          "output_type": "stream",
          "text": [
            "梨泰院Class\n"
          ],
          "name": "stdout"
        }
      ]
    },
    {
      "cell_type": "code",
      "metadata": {
        "id": "XPM0pX--Tp1J",
        "colab_type": "code",
        "outputId": "ee81b777-5ae2-478b-a269-065d10cca2ed",
        "colab": {
          "base_uri": "https://localhost:8080/",
          "height": 34
        }
      },
      "source": [
        "print(release_date)"
      ],
      "execution_count": 0,
      "outputs": [
        {
          "output_type": "stream",
          "text": [
            "2020/01/31\n"
          ],
          "name": "stdout"
        }
      ]
    },
    {
      "cell_type": "code",
      "metadata": {
        "id": "DOYVSDTqT4A4",
        "colab_type": "code",
        "outputId": "74fd9af5-2d92-4045-eb5b-17d556dadc3a",
        "colab": {
          "base_uri": "https://localhost:8080/",
          "height": 34
        }
      },
      "source": [
        "print(drama_time)"
      ],
      "execution_count": 0,
      "outputs": [
        {
          "output_type": "stream",
          "text": [
            "60 MIN\n"
          ],
          "name": "stdout"
        }
      ]
    },
    {
      "cell_type": "code",
      "metadata": {
        "id": "fdMCfpdcUCSF",
        "colab_type": "code",
        "outputId": "610592c7-2833-4ed9-f01c-459ba96aa39e",
        "colab": {
          "base_uri": "https://localhost:8080/",
          "height": 34
        }
      },
      "source": [
        "print(director)"
      ],
      "execution_count": 0,
      "outputs": [
        {
          "output_type": "stream",
          "text": [
            "金成允、姜敏九\n"
          ],
          "name": "stdout"
        }
      ]
    },
    {
      "cell_type": "code",
      "metadata": {
        "id": "8mEPHy_mUGQ9",
        "colab_type": "code",
        "outputId": "1d480928-6188-41ec-a16b-672474f27667",
        "colab": {
          "base_uri": "https://localhost:8080/",
          "height": 34
        }
      },
      "source": [
        "print(actor1)"
      ],
      "execution_count": 33,
      "outputs": [
        {
          "output_type": "stream",
          "text": [
            "朴敘俊\n"
          ],
          "name": "stdout"
        }
      ]
    },
    {
      "cell_type": "code",
      "metadata": {
        "id": "5_5_0Wi0U0bs",
        "colab_type": "code",
        "outputId": "9b14ea8c-644b-4555-ad06-f4a983aa33d3",
        "colab": {
          "base_uri": "https://localhost:8080/",
          "height": 34
        }
      },
      "source": [
        "print(actor2)"
      ],
      "execution_count": 31,
      "outputs": [
        {
          "output_type": "stream",
          "text": [
            "劉在明\n"
          ],
          "name": "stdout"
        }
      ]
    },
    {
      "cell_type": "code",
      "metadata": {
        "id": "xGEmga_nUMOS",
        "colab_type": "code",
        "outputId": "216ce495-07da-4cd2-c06a-426b62256532",
        "colab": {
          "base_uri": "https://localhost:8080/",
          "height": 34
        }
      },
      "source": [
        "print(actress1)"
      ],
      "execution_count": 0,
      "outputs": [
        {
          "output_type": "stream",
          "text": [
            "金多美\n"
          ],
          "name": "stdout"
        }
      ]
    },
    {
      "cell_type": "code",
      "metadata": {
        "id": "CEZBmJRCURmi",
        "colab_type": "code",
        "outputId": "5c741cc4-0cd4-4cd1-b510-57c527c98f18",
        "colab": {
          "base_uri": "https://localhost:8080/",
          "height": 34
        }
      },
      "source": [
        "print(actress2)"
      ],
      "execution_count": 0,
      "outputs": [
        {
          "output_type": "stream",
          "text": [
            "權娜拉\n"
          ],
          "name": "stdout"
        }
      ]
    }
  ]
}