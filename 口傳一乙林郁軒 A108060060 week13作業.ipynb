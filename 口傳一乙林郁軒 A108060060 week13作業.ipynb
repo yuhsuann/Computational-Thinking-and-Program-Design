{
  "nbformat": 4,
  "nbformat_minor": 0,
  "metadata": {
    "colab": {
      "name": "口傳一乙林郁軒 A108060060 week13作業",
      "provenance": [],
      "authorship_tag": "ABX9TyMrUNke8RJAfGYXhgBhj19s",
      "include_colab_link": true
    },
    "kernelspec": {
      "name": "python3",
      "display_name": "Python 3"
    }
  },
  "cells": [
    {
      "cell_type": "markdown",
      "metadata": {
        "id": "view-in-github",
        "colab_type": "text"
      },
      "source": [
        "<a href=\"https://colab.research.google.com/github/yuhsuann/Computational-Thinking-and-Program-Design/blob/master/%E5%8F%A3%E5%82%B3%E4%B8%80%E4%B9%99%E6%9E%97%E9%83%81%E8%BB%92%20A108060060%20week13%E4%BD%9C%E6%A5%AD.ipynb\" target=\"_parent\"><img src=\"https://colab.research.google.com/assets/colab-badge.svg\" alt=\"Open In Colab\"/></a>"
      ]
    },
    {
      "cell_type": "code",
      "metadata": {
        "id": "Nb-UMGR1PAvQ",
        "colab_type": "code",
        "colab": {
          "base_uri": "https://localhost:8080/",
          "height": 51
        },
        "outputId": "d505e704-ac0c-4992-ce5e-e9000baec6b0"
      },
      "source": [
        "score = int(input(\"請輸入成績\"))\n",
        "if score >= 80:\n",
        "        print(\"非常好\")\n",
        "if 80 > score >= 60:\n",
        "        print(\"不錯喔\")\n",
        "if score < 60:\n",
        "        print(\"要加油\")"
      ],
      "execution_count": 1,
      "outputs": [
        {
          "output_type": "stream",
          "text": [
            "請輸入成績82\n",
            "非常好\n"
          ],
          "name": "stdout"
        }
      ]
    },
    {
      "cell_type": "code",
      "metadata": {
        "id": "4Cn2aVnKSasd",
        "colab_type": "code",
        "colab": {
          "base_uri": "https://localhost:8080/",
          "height": 51
        },
        "outputId": "c6d61422-a0d0-49a7-9b3f-9c2fbdf08461"
      },
      "source": [
        "score = int(input(\"請輸入成績\"))\n",
        "if score >= 80:\n",
        "          print(\"非常好\")\n",
        "else:\n",
        "          if score >=60 :\n",
        "                  print(\"不錯喔\")\n",
        "          else:\n",
        "                  print(\"要加油\")"
      ],
      "execution_count": 2,
      "outputs": [
        {
          "output_type": "stream",
          "text": [
            "請輸入成績74\n",
            "不錯喔\n"
          ],
          "name": "stdout"
        }
      ]
    },
    {
      "cell_type": "code",
      "metadata": {
        "id": "QbOi6J8nSd9j",
        "colab_type": "code",
        "colab": {
          "base_uri": "https://localhost:8080/",
          "height": 51
        },
        "outputId": "e5c68e3d-4a3c-4367-8e6f-1500c3e8bc15"
      },
      "source": [
        "score = int(input(\"請輸入成績\"))\n",
        "if score >=80:\n",
        "          print(\"非常好\")\n",
        "elif score >= 60:\n",
        "          print(\"不錯喔\")\n",
        "else :\n",
        "          print(\"要加油\")"
      ],
      "execution_count": 5,
      "outputs": [
        {
          "output_type": "stream",
          "text": [
            "請輸入成績33\n",
            "要加油\n"
          ],
          "name": "stdout"
        }
      ]
    }
  ]
}