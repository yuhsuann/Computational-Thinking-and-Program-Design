{
  "nbformat": 4,
  "nbformat_minor": 0,
  "metadata": {
    "colab": {
      "name": "Untitled2.ipynb",
      "provenance": [],
      "authorship_tag": "ABX9TyPlI0QVpEWwx/5nPoTmts/x",
      "include_colab_link": true
    },
    "kernelspec": {
      "name": "python3",
      "display_name": "Python 3"
    }
  },
  "cells": [
    {
      "cell_type": "markdown",
      "metadata": {
        "id": "view-in-github",
        "colab_type": "text"
      },
      "source": [
        "<a href=\"https://colab.research.google.com/github/yuhsuann/Computational-Thinking-and-Program-Design/blob/master/%E5%8F%A3%E5%82%B3%E4%B8%80%E4%B9%99%E6%9E%97%E9%83%81%E8%BB%92%20A108060060%20week9%E4%BD%9C%E6%A5%AD.ipynb\" target=\"_parent\"><img src=\"https://colab.research.google.com/assets/colab-badge.svg\" alt=\"Open In Colab\"/></a>"
      ]
    },
    {
      "cell_type": "code",
      "metadata": {
        "id": "43b6UwpKWIUi",
        "colab_type": "code",
        "colab": {
          "base_uri": "https://localhost:8080/",
          "height": 51
        },
        "outputId": "4c6a1843-6c46-430d-fee6-70f1785a430b"
      },
      "source": [
        "座號=int(input(\"請輸入座號\"))\n",
        "組別 = (座號-1)//5+1\n",
        "print(\"組別為\",組別)"
      ],
      "execution_count": 4,
      "outputs": [
        {
          "output_type": "stream",
          "text": [
            "請輸入座號12\n",
            "組別為 3\n"
          ],
          "name": "stdout"
        }
      ]
    },
    {
      "cell_type": "code",
      "metadata": {
        "id": "JAWNqfyhWL-X",
        "colab_type": "code",
        "colab": {
          "base_uri": "https://localhost:8080/",
          "height": 68
        },
        "outputId": "693afd63-eff5-45bf-947e-c698ed8751b2"
      },
      "source": [
        "import math\n",
        "r=float(input(\"請輸入圓的半徑\"))\n",
        "面積=math.pi*r*r\n",
        "圓周長=2*math.pi*r\n",
        "print(\"圓面積為\",面積)\n",
        "print(\"圓周長為\",圓周長)"
      ],
      "execution_count": 7,
      "outputs": [
        {
          "output_type": "stream",
          "text": [
            "請輸入圓的半徑10\n",
            "圓面積為 314.1592653589793\n",
            "圓周長為 62.83185307179586\n"
          ],
          "name": "stdout"
        }
      ]
    },
    {
      "cell_type": "code",
      "metadata": {
        "id": "WrR_QrMEWw_W",
        "colab_type": "code",
        "colab": {
          "base_uri": "https://localhost:8080/",
          "height": 51
        },
        "outputId": "c983012c-a545-47a6-8ab7-30af3fe3b09a"
      },
      "source": [
        "攝氏溫度=float(input('請輸入攝氏溫度:'))\n",
        "華氏溫度=攝氏溫度*9/5+32\n",
        "print('華氏溫度為',華氏溫度)"
      ],
      "execution_count": 8,
      "outputs": [
        {
          "output_type": "stream",
          "text": [
            "請輸入攝氏溫度:31\n",
            "華氏溫度為 87.8\n"
          ],
          "name": "stdout"
        }
      ]
    }
  ]
}