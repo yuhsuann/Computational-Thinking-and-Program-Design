{
  "nbformat": 4,
  "nbformat_minor": 0,
  "metadata": {
    "colab": {
      "name": "口傳一乙林郁軒 A108060060 week12作業",
      "provenance": [],
      "authorship_tag": "ABX9TyMznE1DM+/8tR/EFcsaP9SJ",
      "include_colab_link": true
    },
    "kernelspec": {
      "name": "python3",
      "display_name": "Python 3"
    }
  },
  "cells": [
    {
      "cell_type": "markdown",
      "metadata": {
        "id": "view-in-github",
        "colab_type": "text"
      },
      "source": [
        "<a href=\"https://colab.research.google.com/github/yuhsuann/Computational-Thinking-and-Program-Design/blob/master/%E5%8F%A3%E5%82%B3%E4%B8%80%E4%B9%99%E6%9E%97%E9%83%81%E8%BB%92%20A108060060%20week12%E4%BD%9C%E6%A5%AD.ipynb\" target=\"_parent\"><img src=\"https://colab.research.google.com/assets/colab-badge.svg\" alt=\"Open In Colab\"/></a>"
      ]
    },
    {
      "cell_type": "code",
      "metadata": {
        "id": "b3W0EQKaWflR",
        "colab_type": "code",
        "colab": {
          "base_uri": "https://localhost:8080/",
          "height": 85
        },
        "outputId": "cb38211d-4572-4a56-98b8-c6e2b5a28fc2"
      },
      "source": [
        "#方法一\n",
        "noodle = input(\"有麵嗎?(YES/NO)\")\n",
        "sauce = input(\"有醬料嗎?(YES/NO)\")\n",
        "\n",
        "if noodle == \"YES\" :\n",
        "        if sauce == \"YES\" :\n",
        "                print(\"那今晚吃義大利麵吧！\")\n",
        "print(\"Well done!\")"
      ],
      "execution_count": 12,
      "outputs": [
        {
          "output_type": "stream",
          "text": [
            "有麵嗎?(YES/NO)YES\n",
            "有醬料嗎?(YES/NO)YES\n",
            "那今晚吃義大利麵吧！\n",
            "Well done!\n"
          ],
          "name": "stdout"
        }
      ]
    },
    {
      "cell_type": "code",
      "metadata": {
        "id": "aWmZSYFIWqRd",
        "colab_type": "code",
        "colab": {
          "base_uri": "https://localhost:8080/",
          "height": 85
        },
        "outputId": "a41ee086-2636-456a-98dd-32f0a8fe3603"
      },
      "source": [
        "#方法二\n",
        "noodle = input(\"有麵嗎?(YES/NO)\")\n",
        "sauce = input(\"有醬料嗎?(YES/NO)\")\n",
        "\n",
        "if noodle == \"YES\" and sauce == \"YES\":\n",
        "    print(\"那今晚吃義大利麵吧！\")\n",
        "print(\"Well done!\")"
      ],
      "execution_count": 13,
      "outputs": [
        {
          "output_type": "stream",
          "text": [
            "有麵嗎?(YES/NO)YES\n",
            "有醬料嗎?(YES/NO)YES\n",
            "那今晚吃義大利麵吧！\n",
            "Well done!\n"
          ],
          "name": "stdout"
        }
      ]
    }
  ]
}