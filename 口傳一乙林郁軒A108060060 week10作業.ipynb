{
  "nbformat": 4,
  "nbformat_minor": 0,
  "metadata": {
    "colab": {
      "name": "Untitled0.ipynb",
      "provenance": [],
      "authorship_tag": "ABX9TyOfQveuL3T5C61vKAw9z7LX",
      "include_colab_link": true
    },
    "kernelspec": {
      "name": "python3",
      "display_name": "Python 3"
    }
  },
  "cells": [
    {
      "cell_type": "markdown",
      "metadata": {
        "id": "view-in-github",
        "colab_type": "text"
      },
      "source": [
        "<a href=\"https://colab.research.google.com/github/yuhsuann/Computational-Thinking-and-Program-Design/blob/master/%E5%8F%A3%E5%82%B3%E4%B8%80%E4%B9%99%E6%9E%97%E9%83%81%E8%BB%92A108060060%20week10%E4%BD%9C%E6%A5%AD.ipynb\" target=\"_parent\"><img src=\"https://colab.research.google.com/assets/colab-badge.svg\" alt=\"Open In Colab\"/></a>"
      ]
    },
    {
      "cell_type": "code",
      "metadata": {
        "id": "cmR8wGUSuy6L",
        "colab_type": "code",
        "colab": {
          "base_uri": "https://localhost:8080/",
          "height": 85
        },
        "outputId": "bae08f95-cfd5-4aa1-ad3e-acc082e3c817"
      },
      "source": [
        "上衣=int(input(\"請書入上衣數量\"))\n",
        "褲子=int(input(\"請書入褲子數量\"))\n",
        "背心=int(input(\"請書入背心數量\"))\n",
        "總金額=300*上衣+350*褲子+400*背心\n",
        "\n",
        "print(\"購買總金額為\",總金額,\"元\")"
      ],
      "execution_count": 13,
      "outputs": [
        {
          "output_type": "stream",
          "text": [
            "請書入上衣數量1\n",
            "請書入褲子數量2\n",
            "請書入背心數量3\n",
            "購買總金額為 2200 元\n"
          ],
          "name": "stdout"
        }
      ]
    },
    {
      "cell_type": "code",
      "metadata": {
        "id": "OFzV6v3y0iAA",
        "colab_type": "code",
        "colab": {
          "base_uri": "https://localhost:8080/",
          "height": 51
        },
        "outputId": "9c09cb74-9977-4aa5-db87-aa2817b05336"
      },
      "source": [
        "數量=int(input(\"請輸入數量\"))\n",
        "一打=數量//12\n",
        "不足一打=數量%12\n",
        "金額=一打*200+不足一打*20\n",
        "print(\"總金額為\",金額,\"元\")"
      ],
      "execution_count": 15,
      "outputs": [
        {
          "output_type": "stream",
          "text": [
            "請輸入數量14\n",
            "總金額為 240 元\n"
          ],
          "name": "stdout"
        }
      ]
    },
    {
      "cell_type": "code",
      "metadata": {
        "id": "WlO1BJ-2wGbw",
        "colab_type": "code",
        "colab": {
          "base_uri": "https://localhost:8080/",
          "height": 102
        },
        "outputId": "60dd7dd4-a2c3-49c2-d882-b20138906eb2"
      },
      "source": [
        "A=int(input(\"請書入第一次期中考成績\"))\n",
        "B=int(input(\"請書入第二次期中考成績\"))\n",
        "C=int(input(\"請書入期末考成績\"))#成績皆為整數\n",
        "總分=A+B+C\n",
        "均分=(A+B+C)//3\n",
        "\n",
        "print(\"總分：\",總分,\"分\")\n",
        "print(\"均分：\",均分,\"分\")"
      ],
      "execution_count": 16,
      "outputs": [
        {
          "output_type": "stream",
          "text": [
            "請書入第一次期中考成績76\n",
            "請書入第二次期中考成績82\n",
            "請書入期末考成績74\n",
            "總分： 232 分\n",
            "均分： 77 分\n"
          ],
          "name": "stdout"
        }
      ]
    }
  ]
}