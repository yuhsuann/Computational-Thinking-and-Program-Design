{
  "nbformat": 4,
  "nbformat_minor": 0,
  "metadata": {
    "colab": {
      "name": "Untitled1.ipynb",
      "provenance": [],
      "authorship_tag": "ABX9TyPuLXGyaH0eAB9GjZaaDj53",
      "include_colab_link": true
    },
    "kernelspec": {
      "name": "python3",
      "display_name": "Python 3"
    }
  },
  "cells": [
    {
      "cell_type": "markdown",
      "metadata": {
        "id": "view-in-github",
        "colab_type": "text"
      },
      "source": [
        "<a href=\"https://colab.research.google.com/github/yuhsuann/Computational-Thinking-and-Program-Design/blob/master/%E5%8F%A3%E5%82%B3%E4%B8%80%E4%B9%99%E6%9E%97%E9%83%81%E8%BB%92A108060060%20week8%E4%BD%9C%E6%A5%AD.ipynb\" target=\"_parent\"><img src=\"https://colab.research.google.com/assets/colab-badge.svg\" alt=\"Open In Colab\"/></a>"
      ]
    },
    {
      "cell_type": "code",
      "metadata": {
        "id": "1iLJjvqBHpsn",
        "colab_type": "code",
        "colab": {
          "base_uri": "https://localhost:8080/",
          "height": 119
        },
        "outputId": "bfe0de63-6cb3-421b-9cd2-3b6ae510bb88"
      },
      "source": [
        "hours=input(\"movie times hours:\")\n",
        "minutes=input(\"movie times minutes:\")\n",
        "\n",
        "hours=int(hours)\n",
        "minutes=int(minutes)\n",
        "\n",
        "length=hours*60+minutes\n",
        "print(hours,\"hours\",minutes,\"minutes\",\"movie length is\",length,\"minutes\")\n",
        "\n",
        "hours1=length//60\n",
        "print(hours1)\n",
        "\n",
        "minutes1=length%60\n",
        "print(minutes1)\n",
        "\n",
        "print(length,\"minutes equals\",hours1,\"hours\",minutes1,\"minutes\")"
      ],
      "execution_count": 2,
      "outputs": [
        {
          "output_type": "stream",
          "text": [
            "movie times hours:2\n",
            "movie times minutes:13\n",
            "2 hours 13 minutes movie length is 133 minutes\n",
            "2\n",
            "13\n",
            "133 minutes equals 2 hours 13 minutes\n"
          ],
          "name": "stdout"
        }
      ]
    }
  ]
}